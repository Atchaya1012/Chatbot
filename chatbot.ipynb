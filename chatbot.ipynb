{
 "cells": [
  {
   "cell_type": "code",
   "execution_count": 2,
   "metadata": {},
   "outputs": [],
   "source": [
    "# chatbot\n",
    "import random\n",
    "responses = {'hello':['Hello!','Hey!'],\n",
    "            'how are you':['I\\m good,thanks!', 'I\\'m doing well','I\\'m great'],\n",
    "            'what is your name':['I\\'m Chatbot!','My name is Chatbot!','Call me Chatbot']}"
   ]
  },
  {
   "cell_type": "code",
   "execution_count": 3,
   "metadata": {},
   "outputs": [
    {
     "name": "stdout",
     "output_type": "stream",
     "text": [
      "Atchaya\n"
     ]
    }
   ],
   "source": [
    "\n",
    "_name_='Atchaya'\n",
    "print(_name_)\n",
    "\n",
    "\n",
    "# Default response\n",
    "default_response = 'I didn\\'t understand that'\n",
    "\n",
    "def chatbot(message):\n",
    "  message = message.lower()\n",
    "  for keyword,response in responses.items():\n",
    "    if keyword in message:\n",
    "      return random.choice(response)\n",
    "    return default_response\n",
    "\n",
    "def main():\n",
    "  print('Welcome to Chatbot!')\n",
    "  while True:\n",
    "    user_input = input('You:')\n",
    "    response = chatbot(user_input)\n",
    "    print('ChatBot:',response)\n",
    "\n",
    "if _name_ =='_main_':\n",
    "  main()"
   ]
  }
 ],
 "metadata": {
  "kernelspec": {
   "display_name": ".venv",
   "language": "python",
   "name": "python3"
  },
  "language_info": {
   "codemirror_mode": {
    "name": "ipython",
    "version": 3
   },
   "file_extension": ".py",
   "mimetype": "text/x-python",
   "name": "python",
   "nbconvert_exporter": "python",
   "pygments_lexer": "ipython3",
   "version": "3.10.5"
  }
 },
 "nbformat": 4,
 "nbformat_minor": 2
}
